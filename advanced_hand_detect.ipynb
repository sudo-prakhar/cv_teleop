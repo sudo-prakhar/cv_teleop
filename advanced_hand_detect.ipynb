{
 "cells": [
  {
   "cell_type": "code",
   "execution_count": 1,
   "metadata": {},
   "outputs": [],
   "source": [
    "# !pip3 install mediapipe opencv-python jupyterthemes"
   ]
  },
  {
   "cell_type": "markdown",
   "metadata": {},
   "source": [
    "# REFERENCE\n",
    "<img src=https://i.imgur.com/qpRACer.png />"
   ]
  },
  {
   "cell_type": "code",
   "execution_count": 1,
   "metadata": {},
   "outputs": [],
   "source": [
    "import mediapipe as mp\n",
    "import cv2\n",
    "import numpy as np\n",
    "import firebase_admin\n",
    "from firebase_admin import credentials, db"
   ]
  },
  {
   "cell_type": "markdown",
   "metadata": {},
   "source": [
    "# <font color=red> INIT DATABASE </font>"
   ]
  },
  {
   "cell_type": "code",
   "execution_count": 2,
   "metadata": {},
   "outputs": [
    {
     "data": {
      "text/plain": [
       "<firebase_admin.App at 0x105570850>"
      ]
     },
     "execution_count": 2,
     "metadata": {},
     "output_type": "execute_result"
    }
   ],
   "source": [
    "cred = credentials.Certificate(\"keys/touri-65f07-firebase-adminsdk-wuv71-3751c21aa8.json\")\n",
    "firebase_admin.initialize_app(cred, {'databaseURL': 'https://touri-65f07-default-rtdb.firebaseio.com/'})"
   ]
  },
  {
   "cell_type": "markdown",
   "metadata": {},
   "source": [
    "# <font color=red> INIT MEDIAPIPE </font>"
   ]
  },
  {
   "cell_type": "code",
   "execution_count": 3,
   "metadata": {},
   "outputs": [],
   "source": [
    "mp_drawing = mp.solutions.drawing_utils\n",
    "mp_hands = mp.solutions.hands"
   ]
  },
  {
   "cell_type": "markdown",
   "metadata": {},
   "source": [
    "## <font color=purple> HELPERS </font>"
   ]
  },
  {
   "cell_type": "code",
   "execution_count": 4,
   "metadata": {},
   "outputs": [],
   "source": [
    "def get_image():\n",
    "    ret, frame = cap.read()\n",
    "    image = cv2.cvtColor(frame, cv2.COLOR_BGR2RGB)\n",
    "    image = cv2.flip(image, 1)\n",
    "    image.flags.writeable = False\n",
    "\n",
    "    return image"
   ]
  },
  {
   "cell_type": "code",
   "execution_count": 5,
   "metadata": {},
   "outputs": [],
   "source": [
    "def draw_landmarks(results, image):\n",
    "    image.flags.writeable = True\n",
    "    image = cv2.cvtColor(image, cv2.COLOR_RGB2BGR)\n",
    "    point_style = mp_drawing.DrawingSpec(color=(121, 22, 76), thickness=2, circle_radius=4)\n",
    "    joint_style = mp_drawing.DrawingSpec(color=(121, 22, 76), thickness=2, circle_radius=4)\n",
    "    if results.multi_hand_landmarks:\n",
    "        for num, hand in enumerate(results.multi_hand_landmarks):\n",
    "            mp_drawing.draw_landmarks(image, hand, mp_hands.HAND_CONNECTIONS, point_style, joint_style)\n",
    "\n",
    "    return image"
   ]
  },
  {
   "cell_type": "code",
   "execution_count": 6,
   "metadata": {},
   "outputs": [],
   "source": [
    "def get_joint_angles(restult, joint_1, joint_2, joint_3):\n",
    "    # LOOP THROUGH HANDS\n",
    "    for hand in restult.multi_hand_landmarks:\n",
    "        # NP FOR COMPUTATIONAL EFFICIENCY\n",
    "        j1 = np.array([hand.landmark[joint_1].x, hand.landmark[joint_1].y]) \n",
    "        j2 = np.array([hand.landmark[joint_2].x, hand.landmark[joint_2].y]) \n",
    "        j3 = np.array([hand.landmark[joint_3].x, hand.landmark[joint_3].y]) \n",
    "\n",
    "        j32_radians = np.arctan2(j3[1] - j2[1], j3[0] - j2[0])\n",
    "        j12_radians = np.arctan2(j1[1] - j2[1], j1[0] - j2[0])\n",
    "        angle = j32_radians - j12_radians\n",
    "        angle = np.abs(angle*180.0/np.pi)\n",
    "        if angle > 180: angle = 360 - angle\n",
    "\n",
    "        return round(angle, 2)"
   ]
  },
  {
   "cell_type": "markdown",
   "metadata": {},
   "source": [
    "# <font color=red> MAIN </font>"
   ]
  },
  {
   "cell_type": "code",
   "execution_count": 18,
   "metadata": {},
   "outputs": [
    {
     "data": {
      "text/plain": [
       "-1"
      ]
     },
     "execution_count": 18,
     "metadata": {},
     "output_type": "execute_result"
    }
   ],
   "source": [
    "cap = cv2.VideoCapture(1)\n",
    "with mp_hands.Hands(min_detection_confidence=0.8, min_tracking_confidence=0.5, max_num_hands=1) as hands:\n",
    "    last_wrist_angle = 180 \n",
    "    last_wrist_yaw = 0 \n",
    "    while cap.isOpened():\n",
    "        # GET IMAGE\n",
    "        image = get_image()\n",
    "        # PROCESS IMAGE\n",
    "        result = hands.process(image)\n",
    "        # DRAW ON IMAGE\n",
    "        image = draw_landmarks(result, image)\n",
    "\n",
    "        if result.multi_hand_landmarks:\n",
    "            # CALCULATE INDEX ANGLE - JOINTS 8,6,5\n",
    "            current_wrist_angle = get_joint_angles(result, 20, 17, 0)\n",
    "            # CALCULATE INDEX ANGLE - JOINTS 8,6,5\n",
    "            current_yaw_angle = get_joint_angles(result, 5, 0, 17)\n",
    "\n",
    "            # UPDATE DATABASE - WRIST\n",
    "            if abs(last_wrist_angle - current_wrist_angle) > 1:\n",
    "                db.reference(\"/hand\").update({\"wrist_angle\": current_wrist_angle})\n",
    "            last_wrist_angle = current_wrist_angle\n",
    "            # UPDATE DATABASE - YAW\n",
    "            if abs(last_wrist_yaw - current_yaw_angle) > 1:\n",
    "                db.reference(\"/hand\").update({\"wrist_yaw\": current_yaw_angle})\n",
    "            last_wrist_yaw = current_yaw_angle\n",
    "\n",
    "\n",
    "            # IMAGE TEXT\n",
    "            angle_text = \"Wrist: {}     Palm: {}\".format(current_wrist_angle, current_yaw_angle)\n",
    "            cv2.putText(image, angle_text, (100, 100), cv2.FONT_HERSHEY_SIMPLEX, 1, (255, 255, 255), 2, cv2.LINE_AA)\n",
    "\n",
    "        #SHOW IMAGE\n",
    "        cv2.imshow('Hand Tracking', image)\n",
    "        # EXIT\n",
    "        if cv2.waitKey(10) & 0xFF == ord('q'):\n",
    "            break\n",
    "\n",
    "cap.release()\n",
    "cv2.destroyAllWindows()\n",
    "cv2.waitKey(1)"
   ]
  },
  {
   "cell_type": "code",
   "execution_count": null,
   "metadata": {},
   "outputs": [],
   "source": []
  },
  {
   "cell_type": "code",
   "execution_count": null,
   "metadata": {},
   "outputs": [],
   "source": []
  }
 ],
 "metadata": {
  "interpreter": {
   "hash": "aee8b7b246df8f9039afb4144a1f6fd8d2ca17a180786b69acc140d282b71a49"
  },
  "kernelspec": {
   "display_name": "Python 3.10.2 64-bit",
   "language": "python",
   "name": "python3"
  },
  "language_info": {
   "codemirror_mode": {
    "name": "ipython",
    "version": 3
   },
   "file_extension": ".py",
   "mimetype": "text/x-python",
   "name": "python",
   "nbconvert_exporter": "python",
   "pygments_lexer": "ipython3",
   "version": "3.10.2"
  },
  "orig_nbformat": 4
 },
 "nbformat": 4,
 "nbformat_minor": 2
}
